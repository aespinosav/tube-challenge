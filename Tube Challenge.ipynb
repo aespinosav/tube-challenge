{
 "metadata": {
  "name": ""
 },
 "nbformat": 3,
 "nbformat_minor": 0,
 "worksheets": [
  {
   "cells": [
    {
     "cell_type": "code",
     "collapsed": true,
     "input": [
      "import numpy as np\n",
      "import matplotlib.pyplot as plt\n",
      "from random import shuffle"
     ],
     "language": "python",
     "metadata": {},
     "outputs": [],
     "prompt_number": 23
    },
    {
     "cell_type": "markdown",
     "metadata": {},
     "source": [
      "Tube Challenge\n",
      "--------------"
     ]
    },
    {
     "cell_type": "markdown",
     "metadata": {},
     "source": [
      "We will begin by considering a simple tube model on which to test our algorithms:"
     ]
    },
    {
     "cell_type": "code",
     "collapsed": true,
     "input": [
      "a = np.loadtxt('adj_matrix.txt')"
     ],
     "language": "python",
     "metadata": {},
     "outputs": [],
     "prompt_number": 24
    },
    {
     "cell_type": "code",
     "collapsed": false,
     "input": [
      "aa = np.array([[1 if a[i,j] != 0 else 0 for j in range(len(a[i]))] for i in range(len(a))])\n",
      "#aa\n",
      "len(a)"
     ],
     "language": "python",
     "metadata": {},
     "outputs": [
      {
       "metadata": {},
       "output_type": "pyout",
       "prompt_number": 25,
       "text": [
        "20"
       ]
      }
     ],
     "prompt_number": 25
    },
    {
     "cell_type": "markdown",
     "metadata": {},
     "source": [
      "We will use Python dictionaries to represent nodes. Each Node has a key for its neighbours which corresponds to a list of them, and a key for the traveling time to its corresponding neighbour.\n",
      "\n",
      "The network will simply be an object that contains a list of the node dicts and the adjacency matrix."
     ]
    },
    {
     "cell_type": "code",
     "collapsed": true,
     "input": [
      "class Network():\n",
      "    \"\"\"\n",
      "    Network object created from a weighted adjacency matrix (and construcs a regular adjacency matrix)\n",
      "    \"\"\"\n",
      "    def __init__(self, w):            \n",
      "        \n",
      "        node_list = [{} for i in range(len(w))]\n",
      "        \n",
      "        \n",
      "        for n in range(len(node_list)):\n",
      "        \n",
      "            neighbours = []\n",
      "            traveling_time_to_neighbours = []\n",
      "        \n",
      "            for i in range(len(w[n])):\n",
      "                if w[n,i] != 0:\n",
      "                \n",
      "                    neighbours.append(i)\n",
      "                    traveling_time_to_neighbours.append(w[n,i])\n",
      "                \n",
      "            node_list[n]['neighbours'] = neighbours\n",
      "            node_list[n]['travel time'] = traveling_time_to_neighbours\n",
      "            node_list[n]['visits'] = 0\n",
      "            node_list[n]['status'] = 0\n",
      "            node_list[n]['edges'] = []\n",
      "            \n",
      "        \n",
      "        a = np.array([[1 if w[i,j] != 0 else 0 for j in range(len(w[i]))] for i in range(len(w))])\n",
      "        \n",
      "        \n",
      "        edge_list = []\n",
      "        for i in range(len(w)):\n",
      "            for j in range(i, len(w)):\n",
      "                if w[i,j] != 0:\n",
      "                    \n",
      "                    edge = {'nodes': [i,j], 'time': w[i,j], 'label': 0}\n",
      "            \n",
      "                    edge_list.append(edge)\n",
      "                \n",
      "                    node_list[i]['edges'].append(len(edge_list) - 1)\n",
      "                    node_list[j]['edges'].append(len(edge_list) - 1)\n",
      "    \n",
      "        \n",
      "        self.adjacency_matrix = a\n",
      "        self.weight_matrix = w\n",
      "        self.nodes = node_list\n",
      "        self.edges = edge_list\n",
      "        self.status_list = [ n['status'] for n in self.nodes]\n",
      "       \n",
      "        \n",
      "        \n",
      "    def joining_edge(self, v, w):\n",
      "        \"\"\"\n",
      "        returns the edge that joins the nodes v, w.\n",
      "        \"\"\"\n",
      "        \n",
      "        if w in self.nodes[v]['neighbours']:\n",
      "            i = self.nodes[v]['neighbours'].index(w)\n",
      "            e = self.nodes[v]['edges'][i]\n",
      "        else:\n",
      "            return None\n",
      "        \n",
      "        return e\n",
      "        \n",
      "        \n",
      "        \n",
      "        \n",
      "    def adjacent_node(self, v, edge):\n",
      "        \"\"\"\n",
      "        returns the node that is connected to node v by the edge given.\n",
      "        \"\"\"\n",
      "        v\n",
      "        \n",
      "        if edge in self.nodes[v]['edges']:\n",
      "            a, b = self.edges[edge]['nodes']\n",
      "            \n",
      "            if a == v:\n",
      "                return b\n",
      "            else:\n",
      "                return a\n",
      "    \n",
      "    \n",
      "    def find_path(self, start, end, path=[]):\n",
      "        \n",
      "        path = path + [start]\n",
      "        if start == end:\n",
      "            return path\n",
      "        \n",
      "        for nbr in self.nodes[start]['neighbours']:\n",
      "            if nbr not in path:\n",
      "        \n",
      "                newpath = self.find_path(nbr, end, path)\n",
      "                if newpath: \n",
      "                    return newpath\n",
      "        return None"
     ],
     "language": "python",
     "metadata": {},
     "outputs": [],
     "prompt_number": 26
    },
    {
     "cell_type": "code",
     "collapsed": false,
     "input": [
      "net = Network(a)"
     ],
     "language": "python",
     "metadata": {},
     "outputs": [],
     "prompt_number": 27
    },
    {
     "cell_type": "code",
     "collapsed": false,
     "input": [
      "net.nodes"
     ],
     "language": "python",
     "metadata": {},
     "outputs": [
      {
       "metadata": {},
       "output_type": "pyout",
       "prompt_number": 28,
       "text": [
        "[{'edges': [0],\n",
        "  'neighbours': [1],\n",
        "  'status': 0,\n",
        "  'travel time': [1.0],\n",
        "  'visits': 0},\n",
        " {'edges': [0, 1],\n",
        "  'neighbours': [0, 2],\n",
        "  'status': 0,\n",
        "  'travel time': [1.0, 5.0],\n",
        "  'visits': 0},\n",
        " {'edges': [1, 2, 3, 4, 5, 6],\n",
        "  'neighbours': [1, 3, 8, 9, 15, 16],\n",
        "  'status': 0,\n",
        "  'travel time': [5.0, 3.0, 2.0, 5.0, 1.0, 3.0],\n",
        "  'visits': 0},\n",
        " {'edges': [2, 7],\n",
        "  'neighbours': [2, 4],\n",
        "  'status': 0,\n",
        "  'travel time': [3.0, 2.0],\n",
        "  'visits': 0},\n",
        " {'edges': [7, 8],\n",
        "  'neighbours': [3, 5],\n",
        "  'status': 0,\n",
        "  'travel time': [2.0, 2.0],\n",
        "  'visits': 0},\n",
        " {'edges': [8, 9],\n",
        "  'neighbours': [4, 6],\n",
        "  'status': 0,\n",
        "  'travel time': [2.0, 7.0],\n",
        "  'visits': 0},\n",
        " {'edges': [9, 10],\n",
        "  'neighbours': [5, 7],\n",
        "  'status': 0,\n",
        "  'travel time': [7.0, 3.0],\n",
        "  'visits': 0},\n",
        " {'edges': [10],\n",
        "  'neighbours': [6],\n",
        "  'status': 0,\n",
        "  'travel time': [3.0],\n",
        "  'visits': 0},\n",
        " {'edges': [3],\n",
        "  'neighbours': [2],\n",
        "  'status': 0,\n",
        "  'travel time': [2.0],\n",
        "  'visits': 0},\n",
        " {'edges': [4, 11],\n",
        "  'neighbours': [2, 10],\n",
        "  'status': 0,\n",
        "  'travel time': [5.0, 4.0],\n",
        "  'visits': 0},\n",
        " {'edges': [11, 12],\n",
        "  'neighbours': [9, 11],\n",
        "  'status': 0,\n",
        "  'travel time': [4.0, 1.0],\n",
        "  'visits': 0},\n",
        " {'edges': [12],\n",
        "  'neighbours': [10],\n",
        "  'status': 0,\n",
        "  'travel time': [1.0],\n",
        "  'visits': 0},\n",
        " {'edges': [13],\n",
        "  'neighbours': [13],\n",
        "  'status': 0,\n",
        "  'travel time': [7.0],\n",
        "  'visits': 0},\n",
        " {'edges': [13, 14],\n",
        "  'neighbours': [12, 14],\n",
        "  'status': 0,\n",
        "  'travel time': [7.0, 3.0],\n",
        "  'visits': 0},\n",
        " {'edges': [14, 15],\n",
        "  'neighbours': [13, 15],\n",
        "  'status': 0,\n",
        "  'travel time': [3.0, 2.0],\n",
        "  'visits': 0},\n",
        " {'edges': [5, 15],\n",
        "  'neighbours': [2, 14],\n",
        "  'status': 0,\n",
        "  'travel time': [1.0, 2.0],\n",
        "  'visits': 0},\n",
        " {'edges': [6, 16, 17],\n",
        "  'neighbours': [2, 17, 19],\n",
        "  'status': 0,\n",
        "  'travel time': [3.0, 2.0, 2.0],\n",
        "  'visits': 0},\n",
        " {'edges': [16, 18],\n",
        "  'neighbours': [16, 18],\n",
        "  'status': 0,\n",
        "  'travel time': [2.0, 8.0],\n",
        "  'visits': 0},\n",
        " {'edges': [18],\n",
        "  'neighbours': [17],\n",
        "  'status': 0,\n",
        "  'travel time': [8.0],\n",
        "  'visits': 0},\n",
        " {'edges': [17],\n",
        "  'neighbours': [16],\n",
        "  'status': 0,\n",
        "  'travel time': [2.0],\n",
        "  'visits': 0}]"
       ]
      }
     ],
     "prompt_number": 28
    },
    {
     "cell_type": "code",
     "collapsed": false,
     "input": [
      "\n",
      "net.edges"
     ],
     "language": "python",
     "metadata": {},
     "outputs": [
      {
       "metadata": {},
       "output_type": "pyout",
       "prompt_number": 29,
       "text": [
        "[{'label': 0, 'nodes': [0, 1], 'time': 1.0},\n",
        " {'label': 0, 'nodes': [1, 2], 'time': 5.0},\n",
        " {'label': 0, 'nodes': [2, 3], 'time': 3.0},\n",
        " {'label': 0, 'nodes': [2, 8], 'time': 2.0},\n",
        " {'label': 0, 'nodes': [2, 9], 'time': 5.0},\n",
        " {'label': 0, 'nodes': [2, 15], 'time': 1.0},\n",
        " {'label': 0, 'nodes': [2, 16], 'time': 3.0},\n",
        " {'label': 0, 'nodes': [3, 4], 'time': 2.0},\n",
        " {'label': 0, 'nodes': [4, 5], 'time': 2.0},\n",
        " {'label': 0, 'nodes': [5, 6], 'time': 7.0},\n",
        " {'label': 0, 'nodes': [6, 7], 'time': 3.0},\n",
        " {'label': 0, 'nodes': [9, 10], 'time': 4.0},\n",
        " {'label': 0, 'nodes': [10, 11], 'time': 1.0},\n",
        " {'label': 0, 'nodes': [12, 13], 'time': 7.0},\n",
        " {'label': 0, 'nodes': [13, 14], 'time': 3.0},\n",
        " {'label': 0, 'nodes': [14, 15], 'time': 2.0},\n",
        " {'label': 0, 'nodes': [16, 17], 'time': 2.0},\n",
        " {'label': 0, 'nodes': [16, 19], 'time': 2.0},\n",
        " {'label': 0, 'nodes': [17, 18], 'time': 8.0}]"
       ]
      }
     ],
     "prompt_number": 29
    },
    {
     "cell_type": "code",
     "collapsed": false,
     "input": [
      "net.find_path(0, 10)"
     ],
     "language": "python",
     "metadata": {},
     "outputs": [
      {
       "metadata": {},
       "output_type": "pyout",
       "prompt_number": 30,
       "text": [
        "[0, 1, 2, 9, 10]"
       ]
      }
     ],
     "prompt_number": 30
    },
    {
     "cell_type": "code",
     "collapsed": false,
     "input": [
      "def iterative_dfs(graph, start, path=[]):\n",
      "    '''iterative depth first search from node start'''\n",
      "    \n",
      "    q = [start]\n",
      "    trajectory = []\n",
      "    \n",
      "    while q:\n",
      "        \n",
      "        v = q.pop(0)\n",
      "        \n",
      "    \n",
      "        if v not in path:\n",
      "        \n",
      "            path.append(v)\n",
      "            \n",
      "            neighbours = graph.nodes[v]['neighbours'][:]\n",
      "            shuffle(neighbours)\n",
      "            \n",
      "            q = neighbours + q\n",
      "        else:\n",
      "        \n",
      "    return path"
     ],
     "language": "python",
     "metadata": {},
     "outputs": [],
     "prompt_number": 31
    },
    {
     "cell_type": "code",
     "collapsed": false,
     "input": [
      "iterative_dfs(net, 1)"
     ],
     "language": "python",
     "metadata": {},
     "outputs": [
      {
       "ename": "TypeError",
       "evalue": "unsupported operand type(s) for +: 'NoneType' and 'list'",
       "output_type": "pyerr",
       "traceback": [
        "\u001b[1;31m---------------------------------------------------------------------------\u001b[0m\n\u001b[1;31mTypeError\u001b[0m                                 Traceback (most recent call last)",
        "\u001b[1;32m<ipython-input-32-f46cc1edeb36>\u001b[0m in \u001b[0;36m<module>\u001b[1;34m()\u001b[0m\n\u001b[1;32m----> 1\u001b[1;33m \u001b[0miterative_dfs\u001b[0m\u001b[1;33m(\u001b[0m\u001b[0mnet\u001b[0m\u001b[1;33m,\u001b[0m \u001b[1;36m1\u001b[0m\u001b[1;33m)\u001b[0m\u001b[1;33m\u001b[0m\u001b[0m\n\u001b[0m",
        "\u001b[1;32m<ipython-input-31-47d4c3115a28>\u001b[0m in \u001b[0;36miterative_dfs\u001b[1;34m(graph, start, path)\u001b[0m\n\u001b[0;32m     13\u001b[0m \u001b[1;33m\u001b[0m\u001b[0m\n\u001b[0;32m     14\u001b[0m             \u001b[0mneighbours\u001b[0m \u001b[1;33m=\u001b[0m \u001b[0mgraph\u001b[0m\u001b[1;33m.\u001b[0m\u001b[0mnodes\u001b[0m\u001b[1;33m[\u001b[0m\u001b[0mv\u001b[0m\u001b[1;33m]\u001b[0m\u001b[1;33m[\u001b[0m\u001b[1;34m'neighbours'\u001b[0m\u001b[1;33m]\u001b[0m\u001b[1;33m[\u001b[0m\u001b[1;33m:\u001b[0m\u001b[1;33m]\u001b[0m\u001b[1;33m\u001b[0m\u001b[0m\n\u001b[1;32m---> 15\u001b[1;33m             \u001b[0mq\u001b[0m \u001b[1;33m=\u001b[0m \u001b[0mshuffle\u001b[0m\u001b[1;33m(\u001b[0m\u001b[0mneighbours\u001b[0m\u001b[1;33m)\u001b[0m \u001b[1;33m+\u001b[0m \u001b[0mq\u001b[0m\u001b[1;33m\u001b[0m\u001b[0m\n\u001b[0m\u001b[0;32m     16\u001b[0m \u001b[1;33m\u001b[0m\u001b[0m\n\u001b[0;32m     17\u001b[0m     \u001b[1;32mreturn\u001b[0m \u001b[0mpath\u001b[0m\u001b[1;33m\u001b[0m\u001b[0m\n",
        "\u001b[1;31mTypeError\u001b[0m: unsupported operand type(s) for +: 'NoneType' and 'list'"
       ]
      }
     ],
     "prompt_number": 32
    },
    {
     "cell_type": "code",
     "collapsed": false,
     "input": [
      "shuffle?"
     ],
     "language": "python",
     "metadata": {},
     "outputs": [],
     "prompt_number": 33
    },
    {
     "cell_type": "code",
     "collapsed": false,
     "input": [],
     "language": "python",
     "metadata": {},
     "outputs": []
    },
    {
     "cell_type": "code",
     "collapsed": false,
     "input": [],
     "language": "python",
     "metadata": {},
     "outputs": []
    },
    {
     "cell_type": "code",
     "collapsed": true,
     "input": [],
     "language": "python",
     "metadata": {},
     "outputs": [],
     "prompt_number": 9
    },
    {
     "cell_type": "code",
     "collapsed": true,
     "input": [
      "def all_node_status(graph):\n",
      "    [n['']]\n",
      "\n",
      "\n",
      "\n",
      "def dfs(graph, start):\n",
      "    \"\"\"\n",
      "    Runs a depth first search on a graph with (saves the backtrack path only if it discovers new nodes later)\n",
      "    \"\"\"\n",
      "    \n",
      "    time = 0\n",
      "    \n",
      "    path = [start]\n",
      "    \n",
      "    graph.nodes[start]['status'] = 1\n",
      "    graph.nodes[start]['visits'] += 1\n",
      "    \n",
      "    actual_node = path[-1]\n",
      "    \n",
      "    #while not all(graph.status_list == 2):\n",
      "    \n",
      "    for e in random.shuffle(graph.nodes[actual_node]['edges'][:]):\n",
      "        \n",
      "        i = graph.nodes[actual_node]['edges'].index(e)\n",
      "        node_on_edge = graph.nodes[actual_node]['neighbours'][i]\n",
      "        \n",
      "        neighbours_visited = 0\n",
      "      \n",
      "        if graph.nodes[ node_on_edge ]['status'] == 0: # go to that node\n",
      "            \n",
      "            graph.nodes[ node_on_edge ]['status'] = 1\n",
      "            graph.nodes[ node_on_edge ]['visits'] += 1\n",
      "            \n",
      "            path.append(node_on_edge)\n",
      "            time += graph.edges[ graph.edges[e]['time'] ]\n",
      "            neighbours_visited += 1\n",
      "            \n",
      "        elif neighbours_visited == len(graph.nodes[ actual_node]['neighbours']):\n",
      "            \n",
      "            \n",
      "            \n",
      "            \n",
      "            \n",
      "    \n",
      "    \n",
      "    \n",
      "    "
     ],
     "language": "python",
     "metadata": {},
     "outputs": []
    },
    {
     "cell_type": "markdown",
     "metadata": {},
     "source": [
      "`\n",
      "1  procedure DFS(G,v):\n",
      "2      label v as discovered\n",
      "3      for all edges e in G.adjacentEdges(v) do\n",
      "4          if edge e is unexplored then\n",
      "5              w \u2190 G.adjacentVertex(v,e)\n",
      "6              if vertex w is unexplored then\n",
      "7                  label e as a discovered edge\n",
      "8                  recursively call DFS(G,w)\n",
      "9              else\n",
      "10                 label e as a back edge\n",
      "11     label v as explored\n",
      "`"
     ]
    },
    {
     "cell_type": "code",
     "collapsed": true,
     "input": [
      "def recursive_DFS(g, v, path=[]):\n",
      "    \n",
      "    g.nodes[v]['label'] = 'discovered'\n",
      "    current_node = v\n",
      "    path.append(current_node)\n",
      "    \n",
      "    for e in g.nodes[v]['edges']:\n",
      "        if g.edges[e]['label'] != 'explored':\n",
      "            \n",
      "            w = g.adjacent_node(v, e)\n",
      "            \n",
      "            if g.nodes[w]['status'] != 'explored':\n",
      "                g.edges[e]['label'] = 'discovered'\n",
      "                \n",
      "                recursive_DFS(g, w, path)\n",
      "            else:\n",
      "                g.edges[e]['label'] = 'back edge'\n",
      "                \n",
      "    g.nodes[v]['status'] = 'explored'\n",
      "    return path"
     ],
     "language": "python",
     "metadata": {},
     "outputs": [],
     "prompt_number": 63
    },
    {
     "cell_type": "code",
     "collapsed": false,
     "input": [
      "recursive_DFS(net, 1)"
     ],
     "language": "python",
     "metadata": {},
     "outputs": [],
     "prompt_number": 64
    },
    {
     "cell_type": "markdown",
     "metadata": {},
     "source": [
      "\n",
      "\n",
      "\n",
      "\n",
      "`1  procedure DFS-iterative(G,v):\n",
      "2      label v as discovered\n",
      "3      let S be a stack\n",
      "4      S.push(v)\n",
      "5      while S is not empty        \n",
      "6            t \u2190 S.peek() \n",
      "7            if t is what we're looking for: \n",
      "8                return t\n",
      "9            for all edges e in G.adjacentEdges(t) do\n",
      "10               if edge e is already labelled \n",
      "11                   continue with the next edge\n",
      "12               w \u2190 G.adjacentVertex(t,e)\n",
      "13               if vertex w is not discovered and not explored\n",
      "14                   label e as tree-edge\n",
      "15                   label w as discovered\n",
      "16                   S.push(w)\n",
      "17                   continue at 5\n",
      "18               else if vertex w is discovered\n",
      "19                   label e as back-edge\n",
      "20               else\n",
      "21                   // vertex w is explored\n",
      "22                   label e as forward- or cross-edge\n",
      "23           label t as explored\n",
      "24           S.pop()`"
     ]
    },
    {
     "cell_type": "code",
     "collapsed": true,
     "input": [
      "def iter_DFS(g,v):\n",
      "    \n",
      "    s = [] # the stack\n",
      "    g.nodes[v]['label'] = 'discovered'\n",
      "    \n",
      "    s.append(g.nodes[v])\n",
      "    \n",
      "    while len(s) != 0:\n",
      "        \n",
      "        t = s[-1]\n",
      "        if t\n",
      "        "
     ],
     "language": "python",
     "metadata": {},
     "outputs": []
    },
    {
     "cell_type": "code",
     "collapsed": true,
     "input": [
      "def find_path(graph, start):\n",
      "    \n",
      "    Q = []\n",
      "    nodes_list = graph.nodes[:]\n",
      "    \n",
      "    graph.nodes[start]['status'] = 1\n",
      "    Q.append(graph.nodes[start])\n",
      "\n",
      "    while len(Q) != 0:\n",
      "        \n",
      "        t = Q.pop()\n",
      "        if t # if t is what we are looking for:\n",
      "            return t\n",
      "        \n",
      "        for e in graph.nodes[t]['edges']:\n",
      "            \n",
      "    \n",
      "    "
     ],
     "language": "python",
     "metadata": {},
     "outputs": []
    },
    {
     "cell_type": "code",
     "collapsed": true,
     "input": [],
     "language": "python",
     "metadata": {},
     "outputs": [],
     "prompt_number": 9
    },
    {
     "cell_type": "code",
     "collapsed": true,
     "input": [
      "def recursive_dfs(graph, start, path=[]):\n",
      "  '''recursive depth first search from start'''\n",
      "  path=path+[start]\n",
      "  for node in graph[start]:\n",
      "    if not node in path:\n",
      "      path=recursive_dfs(graph, node, path)\n",
      "  return path"
     ],
     "language": "python",
     "metadata": {},
     "outputs": [],
     "prompt_number": 10
    },
    {
     "cell_type": "code",
     "collapsed": true,
     "input": [],
     "language": "python",
     "metadata": {},
     "outputs": [],
     "prompt_number": 10
    },
    {
     "cell_type": "code",
     "collapsed": true,
     "input": [],
     "language": "python",
     "metadata": {},
     "outputs": [],
     "prompt_number": 10
    },
    {
     "cell_type": "code",
     "collapsed": true,
     "input": [],
     "language": "python",
     "metadata": {},
     "outputs": [],
     "prompt_number": 10
    },
    {
     "cell_type": "code",
     "collapsed": true,
     "input": [],
     "language": "python",
     "metadata": {},
     "outputs": [],
     "prompt_number": 10
    },
    {
     "cell_type": "code",
     "collapsed": true,
     "input": [],
     "language": "python",
     "metadata": {},
     "outputs": [],
     "prompt_number": 10
    },
    {
     "cell_type": "code",
     "collapsed": true,
     "input": [],
     "language": "python",
     "metadata": {},
     "outputs": [],
     "prompt_number": 10
    },
    {
     "cell_type": "code",
     "collapsed": true,
     "input": [
      "def bfs_traverse(a, v):\n",
      "    \"\"\"\n",
      "    Constructs a trajectory that visits the nodes of the graph at least once, with\n",
      "    starting node v\n",
      "    \"\"\"\n",
      "    \n",
      "    #nodes = \n",
      "    queue = [v]"
     ],
     "language": "python",
     "metadata": {},
     "outputs": [],
     "prompt_number": 11
    }
   ],
   "metadata": {}
  }
 ]
}