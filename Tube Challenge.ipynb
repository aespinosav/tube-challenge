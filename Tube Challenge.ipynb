{
 "metadata": {
  "name": "Tube Challenge"
 }, 
 "nbformat": 2, 
 "worksheets": [
  {
   "cells": [
    {
     "cell_type": "code", 
     "collapsed": true, 
     "input": [
      "import numpy as np", 
      "import matplotlib.pyplot as plt"
     ], 
     "language": "python", 
     "outputs": [], 
     "prompt_number": 1
    }, 
    {
     "cell_type": "markdown", 
     "source": [
      "Tube Challenge", 
      "--------------"
     ]
    }, 
    {
     "cell_type": "markdown", 
     "source": [
      "We will begin by considering a simple tube model on which to test our algorithms:"
     ]
    }, 
    {
     "cell_type": "code", 
     "collapsed": true, 
     "input": [
      "a = np.loadtxt('adj_matrix.txt')"
     ], 
     "language": "python", 
     "outputs": [], 
     "prompt_number": 2
    }, 
    {
     "cell_type": "code", 
     "collapsed": false, 
     "input": [
      "aa = np.array([[1 if a[i,j] != 0 else 0 for j in range(len(a[i]))] for i in range(len(a))])", 
      "#aa", 
      "len(a)"
     ], 
     "language": "python", 
     "outputs": [
      {
       "output_type": "pyout", 
       "prompt_number": 3, 
       "text": [
        "20"
       ]
      }
     ], 
     "prompt_number": 3
    }, 
    {
     "cell_type": "markdown", 
     "source": [
      "We will use Python dictionaries to represent nodes. Each Node has a key for its neighbours which corresponds to a list of them, and a key for the traveling time to its corresponding neighbour.", 
      "", 
      "The network will simply be an object that contains a list of the node dicts and the adjacency matrix."
     ]
    }, 
    {
     "cell_type": "code", 
     "collapsed": true, 
     "input": [
      "class Network():", 
      "    \"\"\"", 
      "    Network object created from a weighted adjacency matrix (and construcs a regular adjacency matrix)", 
      "    \"\"\"", 
      "    def __init__(self, w):            ", 
      "        ", 
      "        node_list = [{} for i in range(len(w))]", 
      "        ", 
      "        ", 
      "        for n in range(len(node_list)):", 
      "        ", 
      "            neighbours = []", 
      "            traveling_time_to_neighbours = []", 
      "        ", 
      "            for i in range(len(w[n])):", 
      "                if w[n,i] != 0:", 
      "                ", 
      "                    neighbours.append(i)", 
      "                    traveling_time_to_neighbours.append(w[n,i])", 
      "                ", 
      "            node_list[n]['neighbours'] = neighbours", 
      "            node_list[n]['travel time'] = traveling_time_to_neighbours", 
      "            node_list[n]['visits'] = 0", 
      "            node_list[n]['status'] = 0", 
      "            node_list[n]['edges'] = []", 
      "            ", 
      "        ", 
      "        a = np.array([[1 if w[i,j] != 0 else 0 for j in range(len(w[i]))] for i in range(len(w))])", 
      "        ", 
      "        ", 
      "        edge_list = []", 
      "        for i in range(len(w)):", 
      "            for j in range(i, len(w)):", 
      "                if w[i,j] != 0:", 
      "                    ", 
      "                    edge = {'nodes': [i,j], 'time': w[i,j], 'label': 0}", 
      "            ", 
      "                    edge_list.append(edge)", 
      "                ", 
      "                    node_list[i]['edges'].append(len(edge_list) - 1)", 
      "                    node_list[j]['edges'].append(len(edge_list) - 1)", 
      "    ", 
      "        ", 
      "        self.adjacency_matrix = a", 
      "        self.weight_matrix = w", 
      "        self.nodes = node_list", 
      "        self.edges = edge_list", 
      "        self.status_list = [ n['status'] for n in self.nodes]"
     ], 
     "language": "python", 
     "outputs": [], 
     "prompt_number": 23
    }, 
    {
     "cell_type": "code", 
     "collapsed": false, 
     "input": [
      "net = Network(a)"
     ], 
     "language": "python", 
     "outputs": [], 
     "prompt_number": 24
    }, 
    {
     "cell_type": "code", 
     "collapsed": false, 
     "input": [
      "net.nodes"
     ], 
     "language": "python", 
     "outputs": [
      {
       "output_type": "pyout", 
       "prompt_number": 25, 
       "text": [
        "[{'edges': [0],", 
        "  'neighbours': [1],", 
        "  'status': 0,", 
        "  'travel time': [1.0],", 
        "  'visits': 0},", 
        " {'edges': [0, 1],", 
        "  'neighbours': [0, 2],", 
        "  'status': 0,", 
        "  'travel time': [1.0, 5.0],", 
        "  'visits': 0},", 
        " {'edges': [1, 2, 3, 4, 5, 6],", 
        "  'neighbours': [1, 3, 8, 9, 15, 16],", 
        "  'status': 0,", 
        "  'travel time': [5.0, 3.0, 2.0, 5.0, 1.0, 3.0],", 
        "  'visits': 0},", 
        " {'edges': [2, 7],", 
        "  'neighbours': [2, 4],", 
        "  'status': 0,", 
        "  'travel time': [3.0, 2.0],", 
        "  'visits': 0},", 
        " {'edges': [7, 8],", 
        "  'neighbours': [3, 5],", 
        "  'status': 0,", 
        "  'travel time': [2.0, 2.0],", 
        "  'visits': 0},", 
        " {'edges': [8, 9],", 
        "  'neighbours': [4, 6],", 
        "  'status': 0,", 
        "  'travel time': [2.0, 7.0],", 
        "  'visits': 0},", 
        " {'edges': [9, 10],", 
        "  'neighbours': [5, 7],", 
        "  'status': 0,", 
        "  'travel time': [7.0, 3.0],", 
        "  'visits': 0},", 
        " {'edges': [10],", 
        "  'neighbours': [6],", 
        "  'status': 0,", 
        "  'travel time': [3.0],", 
        "  'visits': 0},", 
        " {'edges': [3],", 
        "  'neighbours': [2],", 
        "  'status': 0,", 
        "  'travel time': [2.0],", 
        "  'visits': 0},", 
        " {'edges': [4, 11],", 
        "  'neighbours': [2, 10],", 
        "  'status': 0,", 
        "  'travel time': [5.0, 4.0],", 
        "  'visits': 0},", 
        " {'edges': [11, 12],", 
        "  'neighbours': [9, 11],", 
        "  'status': 0,", 
        "  'travel time': [4.0, 1.0],", 
        "  'visits': 0},", 
        " {'edges': [12],", 
        "  'neighbours': [10],", 
        "  'status': 0,", 
        "  'travel time': [1.0],", 
        "  'visits': 0},", 
        " {'edges': [13],", 
        "  'neighbours': [13],", 
        "  'status': 0,", 
        "  'travel time': [7.0],", 
        "  'visits': 0},", 
        " {'edges': [13, 14],", 
        "  'neighbours': [12, 14],", 
        "  'status': 0,", 
        "  'travel time': [7.0, 3.0],", 
        "  'visits': 0},", 
        " {'edges': [14, 15],", 
        "  'neighbours': [13, 15],", 
        "  'status': 0,", 
        "  'travel time': [3.0, 2.0],", 
        "  'visits': 0},", 
        " {'edges': [5, 15],", 
        "  'neighbours': [2, 14],", 
        "  'status': 0,", 
        "  'travel time': [1.0, 2.0],", 
        "  'visits': 0},", 
        " {'edges': [6, 16, 17],", 
        "  'neighbours': [2, 17, 19],", 
        "  'status': 0,", 
        "  'travel time': [3.0, 2.0, 2.0],", 
        "  'visits': 0},", 
        " {'edges': [16, 18],", 
        "  'neighbours': [16, 18],", 
        "  'status': 0,", 
        "  'travel time': [2.0, 8.0],", 
        "  'visits': 0},", 
        " {'edges': [18],", 
        "  'neighbours': [17],", 
        "  'status': 0,", 
        "  'travel time': [8.0],", 
        "  'visits': 0},", 
        " {'edges': [17],", 
        "  'neighbours': [16],", 
        "  'status': 0,", 
        "  'travel time': [2.0],", 
        "  'visits': 0}]"
       ]
      }
     ], 
     "prompt_number": 25
    }, 
    {
     "cell_type": "code", 
     "collapsed": false, 
     "input": [
      "net.edges"
     ], 
     "language": "python", 
     "outputs": [
      {
       "output_type": "pyout", 
       "prompt_number": 18, 
       "text": [
        "[{'label': 0, 'nodes': [0, 1], 'time': 1.0},", 
        " {'label': 0, 'nodes': [1, 2], 'time': 5.0},", 
        " {'label': 0, 'nodes': [2, 3], 'time': 3.0},", 
        " {'label': 0, 'nodes': [2, 8], 'time': 2.0},", 
        " {'label': 0, 'nodes': [2, 9], 'time': 5.0},", 
        " {'label': 0, 'nodes': [2, 15], 'time': 1.0},", 
        " {'label': 0, 'nodes': [2, 16], 'time': 3.0},", 
        " {'label': 0, 'nodes': [3, 4], 'time': 2.0},", 
        " {'label': 0, 'nodes': [4, 5], 'time': 2.0},", 
        " {'label': 0, 'nodes': [5, 6], 'time': 7.0},", 
        " {'label': 0, 'nodes': [6, 7], 'time': 3.0},", 
        " {'label': 0, 'nodes': [9, 10], 'time': 4.0},", 
        " {'label': 0, 'nodes': [10, 11], 'time': 1.0},", 
        " {'label': 0, 'nodes': [12, 13], 'time': 7.0},", 
        " {'label': 0, 'nodes': [13, 14], 'time': 3.0},", 
        " {'label': 0, 'nodes': [14, 15], 'time': 2.0},", 
        " {'label': 0, 'nodes': [16, 17], 'time': 2.0},", 
        " {'label': 0, 'nodes': [16, 19], 'time': 2.0},", 
        " {'label': 0, 'nodes': [17, 18], 'time': 8.0}]"
       ]
      }
     ], 
     "prompt_number": 18
    }, 
    {
     "cell_type": "code", 
     "collapsed": false, 
     "input": [
      "net.status_list"
     ], 
     "language": "python", 
     "outputs": [
      {
       "output_type": "pyout", 
       "prompt_number": 26, 
       "text": [
        "[0, 0, 0, 0, 0, 0, 0, 0, 0, 0, 0, 0, 0, 0, 0, 0, 0, 0, 0, 0]"
       ]
      }
     ], 
     "prompt_number": 26
    }, 
    {
     "cell_type": "code", 
     "collapsed": true, 
     "input": [], 
     "language": "python", 
     "outputs": []
    }, 
    {
     "cell_type": "code", 
     "collapsed": true, 
     "input": [], 
     "language": "python", 
     "outputs": []
    }, 
    {
     "cell_type": "code", 
     "collapsed": true, 
     "input": [], 
     "language": "python", 
     "outputs": []
    }, 
    {
     "cell_type": "markdown", 
     "source": [
      "The following function is a function that finds a path between a start and end node in a network"
     ]
    }, 
    {
     "cell_type": "code", 
     "collapsed": true, 
     "input": [
      "def find_path(graph, start, end, path=[]):", 
      "        path = path + [start]", 
      "        if start == end:", 
      "            return path", 
      "        ", 
      "        for nbr in graph.nodes[start]['neighbours']:", 
      "            if nbr not in path:", 
      "                newpath = find_path(graph, nbr, end, path)", 
      "                if newpath: return newpath", 
      "        return None"
     ], 
     "language": "python", 
     "outputs": [], 
     "prompt_number": 8
    }, 
    {
     "cell_type": "code", 
     "collapsed": false, 
     "input": [
      "find_path(net, 0, 11)"
     ], 
     "language": "python", 
     "outputs": [
      {
       "output_type": "pyout", 
       "prompt_number": 20, 
       "text": [
        "[0, 1, 2, 9, 10, 11]"
       ]
      }
     ], 
     "prompt_number": 20
    }, 
    {
     "cell_type": "code", 
     "collapsed": true, 
     "input": [], 
     "language": "python", 
     "outputs": [], 
     "prompt_number": 9
    }, 
    {
     "cell_type": "code", 
     "collapsed": true, 
     "input": [
      "def all_node_status(graph):", 
      "    [n['']]", 
      "", 
      "", 
      "", 
      "def dfs(graph, start):", 
      "    \"\"\"", 
      "    Runs a depth first search on a graph with (saves the backtrack path only if it discovers new nodes later)", 
      "    \"\"\"", 
      "    ", 
      "    time = 0", 
      "    ", 
      "    path = [start]", 
      "    ", 
      "    graph.nodes[start]['status'] = 1", 
      "    graph.nodes[start]['visits'] += 1", 
      "    ", 
      "    actual_node = path[-1]", 
      "    ", 
      "    #while not all(graph.status_list == 2):", 
      "    ", 
      "    for e in random.shuffle(graph.nodes[actual_node]['edges'][:]):", 
      "        ", 
      "        i = graph.nodes[actual_node]['edges'].index(e)", 
      "        node_on_edge = graph.nodes[actual_node]['neighbours'][i]", 
      "        ", 
      "        neighbours_visited = 0", 
      "      ", 
      "        if graph.nodes[ node_on_edge ]['status'] == 0: # go to that node", 
      "            ", 
      "            graph.nodes[ node_on_edge ]['status'] = 1", 
      "            graph.nodes[ node_on_edge ]['visits'] += 1", 
      "            ", 
      "            path.append(node_on_edge)", 
      "            time += graph.edges[ graph.edges[e]['time'] ]", 
      "            neighbours_visited += 1", 
      "            ", 
      "        elif neighbours_visited == len(graph.nodes[ actual_node]['neighbours']):", 
      "            ", 
      "            ", 
      "            ", 
      "            ", 
      "            ", 
      "    ", 
      "    ", 
      "    ", 
      "    "
     ], 
     "language": "python", 
     "outputs": []
    }, 
    {
     "cell_type": "code", 
     "collapsed": true, 
     "input": [], 
     "language": "python", 
     "outputs": []
    }, 
    {
     "cell_type": "code", 
     "collapsed": true, 
     "input": [], 
     "language": "python", 
     "outputs": [], 
     "prompt_number": 9
    }, 
    {
     "cell_type": "code", 
     "collapsed": true, 
     "input": [
      "def recursive_dfs(graph, start, path=[]):", 
      "  '''recursive depth first search from start'''", 
      "  path=path+[start]", 
      "  for node in graph[start]:", 
      "    if not node in path:", 
      "      path=recursive_dfs(graph, node, path)", 
      "  return path"
     ], 
     "language": "python", 
     "outputs": [], 
     "prompt_number": 10
    }, 
    {
     "cell_type": "code", 
     "collapsed": true, 
     "input": [], 
     "language": "python", 
     "outputs": [], 
     "prompt_number": 10
    }, 
    {
     "cell_type": "code", 
     "collapsed": true, 
     "input": [], 
     "language": "python", 
     "outputs": [], 
     "prompt_number": 10
    }, 
    {
     "cell_type": "code", 
     "collapsed": true, 
     "input": [], 
     "language": "python", 
     "outputs": [], 
     "prompt_number": 10
    }, 
    {
     "cell_type": "code", 
     "collapsed": true, 
     "input": [], 
     "language": "python", 
     "outputs": [], 
     "prompt_number": 10
    }, 
    {
     "cell_type": "code", 
     "collapsed": true, 
     "input": [], 
     "language": "python", 
     "outputs": [], 
     "prompt_number": 10
    }, 
    {
     "cell_type": "code", 
     "collapsed": true, 
     "input": [], 
     "language": "python", 
     "outputs": [], 
     "prompt_number": 10
    }, 
    {
     "cell_type": "code", 
     "collapsed": true, 
     "input": [
      "def bfs_traverse(a, v):", 
      "    \"\"\"", 
      "    Constructs a trajectory that visits the nodes of the graph at least once, with", 
      "    starting node v", 
      "    \"\"\"", 
      "    ", 
      "    #nodes = ", 
      "    queue = [v]"
     ], 
     "language": "python", 
     "outputs": [], 
     "prompt_number": 11
    }
   ]
  }
 ]
}